{
 "cells": [
  {
   "cell_type": "code",
   "execution_count": null,
   "id": "feb2bf12",
   "metadata": {},
   "outputs": [],
   "source": [
    "from supervised_learning.knn import KNN\n",
    "from supervised_learning.polynomial_regression import PolynomialRegression\n",
    "from supervised_learning.ann import ANN\n",
    "from supervised_learning.regression_tree import DecisionTreeRegressor\n",
    "from supervised_learning.svm import SVM"
   ]
  },
  {
   "cell_type": "code",
   "execution_count": null,
   "id": "1b0c049f",
   "metadata": {},
   "outputs": [],
   "source": []
  }
 ],
 "metadata": {
  "kernelspec": {
   "display_name": "pycaret310",
   "language": "python",
   "name": "python3"
  },
  "language_info": {
   "codemirror_mode": {
    "name": "ipython",
    "version": 3
   },
   "file_extension": ".py",
   "mimetype": "text/x-python",
   "name": "python",
   "nbconvert_exporter": "python",
   "pygments_lexer": "ipython3",
   "version": "3.10.16"
  }
 },
 "nbformat": 4,
 "nbformat_minor": 5
}
